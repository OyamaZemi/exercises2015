{
 "cells": [
  {
   "cell_type": "code",
   "execution_count": 1,
   "metadata": {
    "collapsed": false
   },
   "outputs": [],
   "source": [
    "from __future__ import print_function\n",
    "import numpy as np"
   ]
  },
  {
   "cell_type": "code",
   "execution_count": 2,
   "metadata": {
    "collapsed": false
   },
   "outputs": [],
   "source": [
    "from bocchan.matching import deferred_acceptance as bocchan\n",
    "from keiikegami.deferred_acceptance import da3 as keiikegami\n",
    "from mhanami.gs_one import deferred_acceptance as mhanami\n",
    "from NlGG.matching import deferred_acceptance as NlGG\n",
    "from tsuyoshi.da_algorithms import gale_shapley as tsuyoshi\n",
    "from oyamad.matching import deferred_acceptance as oyamad"
   ]
  },
  {
   "cell_type": "code",
   "execution_count": 3,
   "metadata": {
    "collapsed": false
   },
   "outputs": [],
   "source": [
    "from oyamad.matching_tools import random_prefs"
   ]
  },
  {
   "cell_type": "code",
   "execution_count": 4,
   "metadata": {
    "collapsed": false
   },
   "outputs": [],
   "source": [
    "# Test case\n",
    "m_unmatched = 3\n",
    "m_prefs = [[0, 1, 2, m_unmatched],\n",
    "           [2, 0, 1, m_unmatched],\n",
    "           [1, 2, 0, m_unmatched],\n",
    "           [2, 0, 1, m_unmatched]]\n",
    "f_unmatched = 4\n",
    "f_prefs = [[2, 0, 1, 3, f_unmatched],\n",
    "           [0, 1, 2, 3, f_unmatched],\n",
    "           [2, f_unmatched, 1, 0, 3]]\n",
    "\n",
    "# Unique stable matching\n",
    "m_matched = [0, 1, 2, m_unmatched]\n",
    "f_matched = [0, 1, 2]"
   ]
  },
  {
   "cell_type": "code",
   "execution_count": 5,
   "metadata": {
    "collapsed": false
   },
   "outputs": [
    {
     "name": "stdout",
     "output_type": "stream",
     "text": [
      "[0, 1, 2, 3]\n",
      "[3, 3, 3, 3]\n",
      "[4, 4, 4]\n"
     ]
    },
    {
     "data": {
      "text/plain": [
       "([0, 2, 1, 3], [4, 4, 4])"
      ]
     },
     "execution_count": 5,
     "metadata": {},
     "output_type": "execute_result"
    }
   ],
   "source": [
    "bocchan(m_prefs, f_prefs)"
   ]
  },
  {
   "cell_type": "code",
   "execution_count": 6,
   "metadata": {
    "collapsed": false
   },
   "outputs": [
    {
     "name": "stdout",
     "output_type": "stream",
     "text": [
      "[0, 1, 2]\n",
      "[4, 4, 4]\n",
      "[3, 3, 3, 3]\n"
     ]
    },
    {
     "ename": "ValueError",
     "evalue": "0 is not in list",
     "output_type": "error",
     "traceback": [
      "\u001b[0;31m---------------------------------------------------------------------------\u001b[0m",
      "\u001b[0;31mValueError\u001b[0m                                Traceback (most recent call last)",
      "\u001b[0;32m<ipython-input-6-b1608f96d3fb>\u001b[0m in \u001b[0;36m<module>\u001b[0;34m()\u001b[0m\n\u001b[0;32m----> 1\u001b[0;31m \u001b[0mbocchan\u001b[0m\u001b[0;34m(\u001b[0m\u001b[0mf_prefs\u001b[0m\u001b[0;34m,\u001b[0m \u001b[0mm_prefs\u001b[0m\u001b[0;34m)\u001b[0m\u001b[0;34m\u001b[0m\u001b[0m\n\u001b[0m",
      "\u001b[0;32m/Users/oyama/Development/zemi/2015/DA/bocchan/matching.pyc\u001b[0m in \u001b[0;36mdeferred_acceptance\u001b[0;34m(arg1, arg2)\u001b[0m\n\u001b[1;32m     23\u001b[0m             \u001b[0marg1_matched\u001b[0m\u001b[0;34m[\u001b[0m\u001b[0my\u001b[0m\u001b[0;34m]\u001b[0m \u001b[0;34m=\u001b[0m \u001b[0mx\u001b[0m\u001b[0;34m\u001b[0m\u001b[0m\n\u001b[1;32m     24\u001b[0m         \u001b[0;32melse\u001b[0m\u001b[0;34m:\u001b[0m\u001b[0;34m\u001b[0m\u001b[0m\n\u001b[0;32m---> 25\u001b[0;31m             \u001b[0;32mif\u001b[0m \u001b[0marg2\u001b[0m\u001b[0;34m[\u001b[0m\u001b[0my\u001b[0m\u001b[0;34m]\u001b[0m\u001b[0;34m.\u001b[0m\u001b[0mindex\u001b[0m\u001b[0;34m(\u001b[0m\u001b[0marg2_matched\u001b[0m\u001b[0;34m[\u001b[0m\u001b[0my\u001b[0m\u001b[0;34m]\u001b[0m\u001b[0;34m)\u001b[0m\u001b[0;34m<\u001b[0m\u001b[0marg2\u001b[0m\u001b[0;34m[\u001b[0m\u001b[0my\u001b[0m\u001b[0;34m]\u001b[0m\u001b[0;34m.\u001b[0m\u001b[0mindex\u001b[0m\u001b[0;34m(\u001b[0m\u001b[0mx\u001b[0m\u001b[0;34m)\u001b[0m\u001b[0;34m:\u001b[0m\u001b[0;34m\u001b[0m\u001b[0m\n\u001b[0m\u001b[1;32m     26\u001b[0m                 \u001b[0msingle\u001b[0m\u001b[0;34m.\u001b[0m\u001b[0minsert\u001b[0m\u001b[0;34m(\u001b[0m\u001b[0;36m0\u001b[0m\u001b[0;34m,\u001b[0m \u001b[0mx\u001b[0m\u001b[0;34m)\u001b[0m\u001b[0;34m\u001b[0m\u001b[0m\n\u001b[1;32m     27\u001b[0m             \u001b[0;32melse\u001b[0m\u001b[0;34m:\u001b[0m\u001b[0;34m\u001b[0m\u001b[0m\n",
      "\u001b[0;31mValueError\u001b[0m: 0 is not in list"
     ]
    }
   ],
   "source": [
    "bocchan(f_prefs, m_prefs)"
   ]
  },
  {
   "cell_type": "code",
   "execution_count": 7,
   "metadata": {
    "collapsed": false
   },
   "outputs": [],
   "source": [
    "funcs = {#\"bocchan\": bocchan,\n",
    "         \"keiikegami\": keiikegami,\n",
    "         \"mhanami\": mhanami,\n",
    "         \"NlGG\": NlGG,\n",
    "         \"tsuyoshi\": tsuyoshi,\n",
    "         \"oyamad\": oyamad}"
   ]
  },
  {
   "cell_type": "code",
   "execution_count": 8,
   "metadata": {
    "collapsed": false
   },
   "outputs": [
    {
     "name": "stdout",
     "output_type": "stream",
     "text": [
      "tsuyoshi: OK\n",
      "NlGG: OK\n",
      "mhanami: OK\n",
      "keiikegami: OK\n",
      "oyamad: OK\n"
     ]
    }
   ],
   "source": [
    "# Test case\n",
    "m_unmatched = 3\n",
    "m_prefs = [[0, 1, 2, m_unmatched],\n",
    "           [2, 0, 1, m_unmatched],\n",
    "           [1, 2, 0, m_unmatched],\n",
    "           [2, 0, 1, m_unmatched]]\n",
    "f_unmatched = 4\n",
    "f_prefs = [[2, 0, 1, 3, f_unmatched],\n",
    "           [0, 1, 2, 3, f_unmatched],\n",
    "           [2, f_unmatched, 1, 0, 3]]\n",
    "\n",
    "# Unique stable matching\n",
    "m_matched = [0, 1, 2, m_unmatched]\n",
    "f_matched = [0, 1, 2]\n",
    "\n",
    "for name, func in funcs.iteritems():\n",
    "    m_matched_computed, f_matched_computed = func(m_prefs, f_prefs)\n",
    "    msg = 'OK' if np.array_equal(m_matched_computed, m_matched) and \\\n",
    "                  np.array_equal(f_matched_computed, f_matched) \\\n",
    "          else 'Failed'\n",
    "    print(name + ': ' + msg)"
   ]
  },
  {
   "cell_type": "code",
   "execution_count": 9,
   "metadata": {
    "collapsed": false
   },
   "outputs": [
    {
     "name": "stdout",
     "output_type": "stream",
     "text": [
      "tsuyoshi\n",
      "1000 loops, best of 3: 569 µs per loop\n",
      "NlGG\n"
     ]
    },
    {
     "ename": "AttributeError",
     "evalue": "'numpy.ndarray' object has no attribute 'index'",
     "output_type": "error",
     "traceback": [
      "\u001b[0;31m---------------------------------------------------------------------------\u001b[0m",
      "\u001b[0;31mAttributeError\u001b[0m                            Traceback (most recent call last)",
      "\u001b[0;32m<ipython-input-9-9266a0835f64>\u001b[0m in \u001b[0;36m<module>\u001b[0;34m()\u001b[0m\n\u001b[1;32m     11\u001b[0m \u001b[0;32mfor\u001b[0m \u001b[0mname\u001b[0m\u001b[0;34m,\u001b[0m \u001b[0mfunc\u001b[0m \u001b[0;32min\u001b[0m \u001b[0mfuncs\u001b[0m\u001b[0;34m.\u001b[0m\u001b[0miteritems\u001b[0m\u001b[0;34m(\u001b[0m\u001b[0;34m)\u001b[0m\u001b[0;34m:\u001b[0m\u001b[0;34m\u001b[0m\u001b[0m\n\u001b[1;32m     12\u001b[0m     \u001b[0;32mprint\u001b[0m\u001b[0;34m(\u001b[0m\u001b[0mname\u001b[0m\u001b[0;34m)\u001b[0m\u001b[0;34m\u001b[0m\u001b[0m\n\u001b[0;32m---> 13\u001b[0;31m     \u001b[0mget_ipython\u001b[0m\u001b[0;34m(\u001b[0m\u001b[0;34m)\u001b[0m\u001b[0;34m.\u001b[0m\u001b[0mmagic\u001b[0m\u001b[0;34m(\u001b[0m\u001b[0;34mu'timeit func(prop_prefs, resp_prefs)'\u001b[0m\u001b[0;34m)\u001b[0m\u001b[0;34m\u001b[0m\u001b[0m\n\u001b[0m",
      "\u001b[0;32m//anaconda/lib/python2.7/site-packages/IPython/core/interactiveshell.pyc\u001b[0m in \u001b[0;36mmagic\u001b[0;34m(self, arg_s)\u001b[0m\n\u001b[1;32m   2302\u001b[0m         \u001b[0mmagic_name\u001b[0m\u001b[0;34m,\u001b[0m \u001b[0m_\u001b[0m\u001b[0;34m,\u001b[0m \u001b[0mmagic_arg_s\u001b[0m \u001b[0;34m=\u001b[0m \u001b[0marg_s\u001b[0m\u001b[0;34m.\u001b[0m\u001b[0mpartition\u001b[0m\u001b[0;34m(\u001b[0m\u001b[0;34m' '\u001b[0m\u001b[0;34m)\u001b[0m\u001b[0;34m\u001b[0m\u001b[0m\n\u001b[1;32m   2303\u001b[0m         \u001b[0mmagic_name\u001b[0m \u001b[0;34m=\u001b[0m \u001b[0mmagic_name\u001b[0m\u001b[0;34m.\u001b[0m\u001b[0mlstrip\u001b[0m\u001b[0;34m(\u001b[0m\u001b[0mprefilter\u001b[0m\u001b[0;34m.\u001b[0m\u001b[0mESC_MAGIC\u001b[0m\u001b[0;34m)\u001b[0m\u001b[0;34m\u001b[0m\u001b[0m\n\u001b[0;32m-> 2304\u001b[0;31m         \u001b[0;32mreturn\u001b[0m \u001b[0mself\u001b[0m\u001b[0;34m.\u001b[0m\u001b[0mrun_line_magic\u001b[0m\u001b[0;34m(\u001b[0m\u001b[0mmagic_name\u001b[0m\u001b[0;34m,\u001b[0m \u001b[0mmagic_arg_s\u001b[0m\u001b[0;34m)\u001b[0m\u001b[0;34m\u001b[0m\u001b[0m\n\u001b[0m\u001b[1;32m   2305\u001b[0m \u001b[0;34m\u001b[0m\u001b[0m\n\u001b[1;32m   2306\u001b[0m     \u001b[0;31m#-------------------------------------------------------------------------\u001b[0m\u001b[0;34m\u001b[0m\u001b[0;34m\u001b[0m\u001b[0m\n",
      "\u001b[0;32m//anaconda/lib/python2.7/site-packages/IPython/core/interactiveshell.pyc\u001b[0m in \u001b[0;36mrun_line_magic\u001b[0;34m(self, magic_name, line)\u001b[0m\n\u001b[1;32m   2223\u001b[0m                 \u001b[0mkwargs\u001b[0m\u001b[0;34m[\u001b[0m\u001b[0;34m'local_ns'\u001b[0m\u001b[0;34m]\u001b[0m \u001b[0;34m=\u001b[0m \u001b[0msys\u001b[0m\u001b[0;34m.\u001b[0m\u001b[0m_getframe\u001b[0m\u001b[0;34m(\u001b[0m\u001b[0mstack_depth\u001b[0m\u001b[0;34m)\u001b[0m\u001b[0;34m.\u001b[0m\u001b[0mf_locals\u001b[0m\u001b[0;34m\u001b[0m\u001b[0m\n\u001b[1;32m   2224\u001b[0m             \u001b[0;32mwith\u001b[0m \u001b[0mself\u001b[0m\u001b[0;34m.\u001b[0m\u001b[0mbuiltin_trap\u001b[0m\u001b[0;34m:\u001b[0m\u001b[0;34m\u001b[0m\u001b[0m\n\u001b[0;32m-> 2225\u001b[0;31m                 \u001b[0mresult\u001b[0m \u001b[0;34m=\u001b[0m \u001b[0mfn\u001b[0m\u001b[0;34m(\u001b[0m\u001b[0;34m*\u001b[0m\u001b[0margs\u001b[0m\u001b[0;34m,\u001b[0m\u001b[0;34m**\u001b[0m\u001b[0mkwargs\u001b[0m\u001b[0;34m)\u001b[0m\u001b[0;34m\u001b[0m\u001b[0m\n\u001b[0m\u001b[1;32m   2226\u001b[0m             \u001b[0;32mreturn\u001b[0m \u001b[0mresult\u001b[0m\u001b[0;34m\u001b[0m\u001b[0m\n\u001b[1;32m   2227\u001b[0m \u001b[0;34m\u001b[0m\u001b[0m\n",
      "\u001b[0;32m//anaconda/lib/python2.7/site-packages/IPython/core/magics/execution.pyc\u001b[0m in \u001b[0;36mtimeit\u001b[0;34m(self, line, cell)\u001b[0m\n",
      "\u001b[0;32m//anaconda/lib/python2.7/site-packages/IPython/core/magic.pyc\u001b[0m in \u001b[0;36m<lambda>\u001b[0;34m(f, *a, **k)\u001b[0m\n\u001b[1;32m    191\u001b[0m     \u001b[0;31m# but it's overkill for just that one bit of state.\u001b[0m\u001b[0;34m\u001b[0m\u001b[0;34m\u001b[0m\u001b[0m\n\u001b[1;32m    192\u001b[0m     \u001b[0;32mdef\u001b[0m \u001b[0mmagic_deco\u001b[0m\u001b[0;34m(\u001b[0m\u001b[0marg\u001b[0m\u001b[0;34m)\u001b[0m\u001b[0;34m:\u001b[0m\u001b[0;34m\u001b[0m\u001b[0m\n\u001b[0;32m--> 193\u001b[0;31m         \u001b[0mcall\u001b[0m \u001b[0;34m=\u001b[0m \u001b[0;32mlambda\u001b[0m \u001b[0mf\u001b[0m\u001b[0;34m,\u001b[0m \u001b[0;34m*\u001b[0m\u001b[0ma\u001b[0m\u001b[0;34m,\u001b[0m \u001b[0;34m**\u001b[0m\u001b[0mk\u001b[0m\u001b[0;34m:\u001b[0m \u001b[0mf\u001b[0m\u001b[0;34m(\u001b[0m\u001b[0;34m*\u001b[0m\u001b[0ma\u001b[0m\u001b[0;34m,\u001b[0m \u001b[0;34m**\u001b[0m\u001b[0mk\u001b[0m\u001b[0;34m)\u001b[0m\u001b[0;34m\u001b[0m\u001b[0m\n\u001b[0m\u001b[1;32m    194\u001b[0m \u001b[0;34m\u001b[0m\u001b[0m\n\u001b[1;32m    195\u001b[0m         \u001b[0;32mif\u001b[0m \u001b[0mcallable\u001b[0m\u001b[0;34m(\u001b[0m\u001b[0marg\u001b[0m\u001b[0;34m)\u001b[0m\u001b[0;34m:\u001b[0m\u001b[0;34m\u001b[0m\u001b[0m\n",
      "\u001b[0;32m//anaconda/lib/python2.7/site-packages/IPython/core/magics/execution.pyc\u001b[0m in \u001b[0;36mtimeit\u001b[0;34m(self, line, cell)\u001b[0m\n\u001b[1;32m   1034\u001b[0m             \u001b[0mnumber\u001b[0m \u001b[0;34m=\u001b[0m \u001b[0;36m1\u001b[0m\u001b[0;34m\u001b[0m\u001b[0m\n\u001b[1;32m   1035\u001b[0m             \u001b[0;32mfor\u001b[0m \u001b[0m_\u001b[0m \u001b[0;32min\u001b[0m \u001b[0mrange\u001b[0m\u001b[0;34m(\u001b[0m\u001b[0;36m1\u001b[0m\u001b[0;34m,\u001b[0m \u001b[0;36m10\u001b[0m\u001b[0;34m)\u001b[0m\u001b[0;34m:\u001b[0m\u001b[0;34m\u001b[0m\u001b[0m\n\u001b[0;32m-> 1036\u001b[0;31m                 \u001b[0mtime_number\u001b[0m \u001b[0;34m=\u001b[0m \u001b[0mtimer\u001b[0m\u001b[0;34m.\u001b[0m\u001b[0mtimeit\u001b[0m\u001b[0;34m(\u001b[0m\u001b[0mnumber\u001b[0m\u001b[0;34m)\u001b[0m\u001b[0;34m\u001b[0m\u001b[0m\n\u001b[0m\u001b[1;32m   1037\u001b[0m                 \u001b[0mworst_tuning\u001b[0m \u001b[0;34m=\u001b[0m \u001b[0mmax\u001b[0m\u001b[0;34m(\u001b[0m\u001b[0mworst_tuning\u001b[0m\u001b[0;34m,\u001b[0m \u001b[0mtime_number\u001b[0m \u001b[0;34m/\u001b[0m \u001b[0mnumber\u001b[0m\u001b[0;34m)\u001b[0m\u001b[0;34m\u001b[0m\u001b[0m\n\u001b[1;32m   1038\u001b[0m                 \u001b[0;32mif\u001b[0m \u001b[0mtime_number\u001b[0m \u001b[0;34m>=\u001b[0m \u001b[0;36m0.2\u001b[0m\u001b[0;34m:\u001b[0m\u001b[0;34m\u001b[0m\u001b[0m\n",
      "\u001b[0;32m//anaconda/lib/python2.7/site-packages/IPython/core/magics/execution.pyc\u001b[0m in \u001b[0;36mtimeit\u001b[0;34m(self, number)\u001b[0m\n\u001b[1;32m    130\u001b[0m         \u001b[0mgc\u001b[0m\u001b[0;34m.\u001b[0m\u001b[0mdisable\u001b[0m\u001b[0;34m(\u001b[0m\u001b[0;34m)\u001b[0m\u001b[0;34m\u001b[0m\u001b[0m\n\u001b[1;32m    131\u001b[0m         \u001b[0;32mtry\u001b[0m\u001b[0;34m:\u001b[0m\u001b[0;34m\u001b[0m\u001b[0m\n\u001b[0;32m--> 132\u001b[0;31m             \u001b[0mtiming\u001b[0m \u001b[0;34m=\u001b[0m \u001b[0mself\u001b[0m\u001b[0;34m.\u001b[0m\u001b[0minner\u001b[0m\u001b[0;34m(\u001b[0m\u001b[0mit\u001b[0m\u001b[0;34m,\u001b[0m \u001b[0mself\u001b[0m\u001b[0;34m.\u001b[0m\u001b[0mtimer\u001b[0m\u001b[0;34m)\u001b[0m\u001b[0;34m\u001b[0m\u001b[0m\n\u001b[0m\u001b[1;32m    133\u001b[0m         \u001b[0;32mfinally\u001b[0m\u001b[0;34m:\u001b[0m\u001b[0;34m\u001b[0m\u001b[0m\n\u001b[1;32m    134\u001b[0m             \u001b[0;32mif\u001b[0m \u001b[0mgcold\u001b[0m\u001b[0;34m:\u001b[0m\u001b[0;34m\u001b[0m\u001b[0m\n",
      "\u001b[0;32m<magic-timeit>\u001b[0m in \u001b[0;36minner\u001b[0;34m(_it, _timer)\u001b[0m\n",
      "\u001b[0;32m/Users/oyama/Development/zemi/2015/DA/NlGG/matching.pyc\u001b[0m in \u001b[0;36mdeferred_acceptance\u001b[0;34m(m_prefs, f_prefs)\u001b[0m\n\u001b[1;32m     26\u001b[0m             \u001b[0;32mif\u001b[0m \u001b[0mmbest\u001b[0m \u001b[0;34m!=\u001b[0m \u001b[0mfnum\u001b[0m\u001b[0;34m:\u001b[0m\u001b[0;34m\u001b[0m\u001b[0m\n\u001b[1;32m     27\u001b[0m \u001b[0;34m\u001b[0m\u001b[0m\n\u001b[0;32m---> 28\u001b[0;31m                 \u001b[0;32mif\u001b[0m \u001b[0mf_prefs\u001b[0m\u001b[0;34m[\u001b[0m\u001b[0mmbest\u001b[0m\u001b[0;34m]\u001b[0m\u001b[0;34m.\u001b[0m\u001b[0mindex\u001b[0m\u001b[0;34m(\u001b[0m\u001b[0mi\u001b[0m\u001b[0;34m)\u001b[0m \u001b[0;34m<\u001b[0m \u001b[0mf_prefs\u001b[0m\u001b[0;34m[\u001b[0m\u001b[0mmbest\u001b[0m\u001b[0;34m]\u001b[0m\u001b[0;34m.\u001b[0m\u001b[0mindex\u001b[0m\u001b[0;34m(\u001b[0m\u001b[0mhave\u001b[0m\u001b[0;34m[\u001b[0m\u001b[0mmbest\u001b[0m\u001b[0;34m]\u001b[0m\u001b[0;34m)\u001b[0m\u001b[0;34m:\u001b[0m\u001b[0;34m\u001b[0m\u001b[0m\n\u001b[0m\u001b[1;32m     29\u001b[0m                     \u001b[0msingle\u001b[0m\u001b[0;34m.\u001b[0m\u001b[0mremove\u001b[0m\u001b[0;34m(\u001b[0m\u001b[0mi\u001b[0m\u001b[0;34m)\u001b[0m\u001b[0;34m\u001b[0m\u001b[0m\n\u001b[1;32m     30\u001b[0m                     \u001b[0;32mif\u001b[0m \u001b[0mhave\u001b[0m\u001b[0;34m[\u001b[0m\u001b[0mmbest\u001b[0m\u001b[0;34m]\u001b[0m \u001b[0;34m!=\u001b[0m \u001b[0mmnum\u001b[0m\u001b[0;34m:\u001b[0m\u001b[0;34m\u001b[0m\u001b[0m\n",
      "\u001b[0;31mAttributeError\u001b[0m: 'numpy.ndarray' object has no attribute 'index'"
     ]
    }
   ],
   "source": [
    "m, n = 50, 50\n",
    "prop_prefs, resp_prefs = random_prefs(m, n)\n",
    "\n",
    "funcs = {#\"bocchan\": bocchan,\n",
    "         \"keiikegami\": keiikegami,\n",
    "         \"mhanami\": mhanami,\n",
    "         \"NlGG\": NlGG,\n",
    "         \"tsuyoshi\": tsuyoshi,\n",
    "         \"oyamad\": oyamad}\n",
    "\n",
    "for name, func in funcs.iteritems():\n",
    "    print(name)\n",
    "    %timeit func(prop_prefs, resp_prefs)"
   ]
  },
  {
   "cell_type": "code",
   "execution_count": 10,
   "metadata": {
    "collapsed": false
   },
   "outputs": [
    {
     "name": "stdout",
     "output_type": "stream",
     "text": [
      "tsuyoshi\n",
      "1000 loops, best of 3: 374 µs per loop\n",
      "1000 loops, best of 3: 588 µs per loop\n",
      "NlGG\n",
      "NA\n",
      "1000 loops, best of 3: 466 µs per loop\n",
      "mhanami\n",
      "100 loops, best of 3: 7.8 ms per loop\n",
      "1000 loops, best of 3: 1.83 ms per loop\n",
      "keiikegami\n",
      "10 loops, best of 3: 20.4 ms per loop\n",
      "10 loops, best of 3: 20.9 ms per loop\n",
      "oyamad\n",
      "The slowest run took 3315.69 times longer than the fastest. This could mean that an intermediate result is being cached \n",
      "1 loops, best of 3: 73 µs per loop\n",
      "1000 loops, best of 3: 294 µs per loop\n"
     ]
    }
   ],
   "source": [
    "m, n = 50, 50\n",
    "prop_prefs, resp_prefs = random_prefs(m, n)\n",
    "prop_prefs_list, resp_prefs_list = prop_prefs.tolist(), resp_prefs.tolist()\n",
    "\n",
    "funcs = {#\"bocchan\": bocchan,\n",
    "         \"keiikegami\": keiikegami,\n",
    "         \"mhanami\": mhanami,\n",
    "         \"NlGG\": NlGG,\n",
    "         \"tsuyoshi\": tsuyoshi,\n",
    "         \"oyamad\": oyamad}\n",
    "\n",
    "for name, func in funcs.iteritems():\n",
    "    print(name)\n",
    "    if name == 'NlGG':\n",
    "        print('NA')\n",
    "    else:\n",
    "        %timeit func(prop_prefs, resp_prefs)\n",
    "    %timeit func(prop_prefs_list, resp_prefs_list)"
   ]
  },
  {
   "cell_type": "code",
   "execution_count": 11,
   "metadata": {
    "collapsed": false
   },
   "outputs": [
    {
     "name": "stdout",
     "output_type": "stream",
     "text": [
      "tsuyoshi\n",
      "100 loops, best of 3: 4.38 ms per loop\n",
      "100 loops, best of 3: 7.25 ms per loop\n",
      "NlGG\n",
      "NA\n",
      "100 loops, best of 3: 9.05 ms per loop\n",
      "mhanami\n",
      "10 loops, best of 3: 174 ms per loop\n",
      "10 loops, best of 3: 58.5 ms per loop\n",
      "keiikegami\n",
      "1 loops, best of 3: 1.09 s per loop\n",
      "1 loops, best of 3: 1.08 s per loop\n",
      "oyamad\n",
      "1000 loops, best of 3: 231 µs per loop\n",
      "100 loops, best of 3: 3.29 ms per loop\n"
     ]
    }
   ],
   "source": [
    "m, n = 200, 200\n",
    "prop_prefs, resp_prefs = random_prefs(m, n)\n",
    "prop_prefs_list, resp_prefs_list = prop_prefs.tolist(), resp_prefs.tolist()\n",
    "\n",
    "funcs = {#\"bocchan\": bocchan,\n",
    "         \"keiikegami\": keiikegami,\n",
    "         \"mhanami\": mhanami,\n",
    "         \"NlGG\": NlGG,\n",
    "         \"tsuyoshi\": tsuyoshi,\n",
    "         \"oyamad\": oyamad}\n",
    "\n",
    "for name, func in funcs.iteritems():\n",
    "    print(name)\n",
    "    if name == 'NlGG':\n",
    "        print('NA')\n",
    "    else:\n",
    "        %timeit func(prop_prefs, resp_prefs)\n",
    "    %timeit func(prop_prefs_list, resp_prefs_list)"
   ]
  },
  {
   "cell_type": "code",
   "execution_count": 12,
   "metadata": {
    "collapsed": false
   },
   "outputs": [
    {
     "name": "stdout",
     "output_type": "stream",
     "text": [
      "NlGG\n",
      "NA\n",
      "10 loops, best of 3: 91.8 ms per loop\n",
      "tsuyoshi\n",
      "10 loops, best of 3: 23.2 ms per loop\n",
      "10 loops, best of 3: 43.7 ms per loop\n",
      "mhanami\n",
      "1 loops, best of 3: 1.71 s per loop\n",
      "1 loops, best of 3: 791 ms per loop\n",
      "oyamad\n",
      "1000 loops, best of 3: 1.5 ms per loop\n",
      "10 loops, best of 3: 21.8 ms per loop\n"
     ]
    }
   ],
   "source": [
    "m, n = 500, 500\n",
    "prop_prefs, resp_prefs = random_prefs(m, n)\n",
    "prop_prefs_list, resp_prefs_list = prop_prefs.tolist(), resp_prefs.tolist()\n",
    "\n",
    "funcs = {#\"bocchan\": bocchan,\n",
    "         #\"keiikegami\": keiikegami,\n",
    "         \"mhanami\": mhanami,\n",
    "         \"NlGG\": NlGG,\n",
    "         \"tsuyoshi\": tsuyoshi,\n",
    "         \"oyamad\": oyamad}\n",
    "\n",
    "for name, func in funcs.iteritems():\n",
    "    print(name)\n",
    "    if name in ['NlGG', 'keiikegami']:\n",
    "        print('NA')\n",
    "    else:\n",
    "        %timeit func(prop_prefs, resp_prefs)\n",
    "    %timeit func(prop_prefs_list, resp_prefs_list)"
   ]
  },
  {
   "cell_type": "code",
   "execution_count": 13,
   "metadata": {
    "collapsed": false
   },
   "outputs": [
    {
     "name": "stdout",
     "output_type": "stream",
     "text": [
      "NlGG\n",
      "NA\n",
      "1 loops, best of 3: 381 ms per loop\n",
      "tsuyoshi\n",
      "10 loops, best of 3: 74.1 ms per loop\n",
      "10 loops, best of 3: 154 ms per loop\n",
      "oyamad\n",
      "100 loops, best of 3: 6.72 ms per loop\n",
      "10 loops, best of 3: 88 ms per loop\n"
     ]
    }
   ],
   "source": [
    "m, n = 1000, 1000\n",
    "prop_prefs, resp_prefs = random_prefs(m, n)\n",
    "prop_prefs_list, resp_prefs_list = prop_prefs.tolist(), resp_prefs.tolist()\n",
    "\n",
    "funcs = {#\"bocchan\": bocchan,\n",
    "         #\"keiikegami\": keiikegami,\n",
    "         #\"mhanami\": mhanami,\n",
    "         \"NlGG\": NlGG,\n",
    "         \"tsuyoshi\": tsuyoshi,\n",
    "         \"oyamad\": oyamad}\n",
    "\n",
    "for name, func in funcs.iteritems():\n",
    "    print(name)\n",
    "    if name in ['NlGG', 'keiikegami', 'mhanami']:\n",
    "        print('NA')\n",
    "    else:\n",
    "        %timeit func(prop_prefs, resp_prefs)\n",
    "    %timeit func(prop_prefs_list, resp_prefs_list)"
   ]
  },
  {
   "cell_type": "code",
   "execution_count": 15,
   "metadata": {
    "collapsed": false
   },
   "outputs": [
    {
     "name": "stdout",
     "output_type": "stream",
     "text": [
      "Darwin-13.4.0-x86_64-i386-64bit\n"
     ]
    }
   ],
   "source": [
    "import platform\n",
    "print(platform.platform())"
   ]
  },
  {
   "cell_type": "code",
   "execution_count": 16,
   "metadata": {
    "collapsed": false
   },
   "outputs": [
    {
     "name": "stdout",
     "output_type": "stream",
     "text": [
      "2.7.9 |Anaconda 2.2.0 (x86_64)| (default, Dec 15 2014, 10:37:34) \n",
      "[GCC 4.2.1 (Apple Inc. build 5577)]\n"
     ]
    }
   ],
   "source": [
    "import sys\n",
    "print(sys.version)"
   ]
  },
  {
   "cell_type": "code",
   "execution_count": 17,
   "metadata": {
    "collapsed": false
   },
   "outputs": [
    {
     "name": "stdout",
     "output_type": "stream",
     "text": [
      "1.9.2\n"
     ]
    }
   ],
   "source": [
    "import numpy\n",
    "print(numpy.__version__)"
   ]
  },
  {
   "cell_type": "code",
   "execution_count": 18,
   "metadata": {
    "collapsed": false
   },
   "outputs": [
    {
     "name": "stdout",
     "output_type": "stream",
     "text": [
      "0.17.0\n"
     ]
    }
   ],
   "source": [
    "import numba\n",
    "print(numba.__version__)"
   ]
  },
  {
   "cell_type": "code",
   "execution_count": null,
   "metadata": {
    "collapsed": true
   },
   "outputs": [],
   "source": []
  }
 ],
 "metadata": {
  "kernelspec": {
   "display_name": "Python 2",
   "language": "python",
   "name": "python2"
  },
  "language_info": {
   "codemirror_mode": {
    "name": "ipython",
    "version": 2
   },
   "file_extension": ".py",
   "mimetype": "text/x-python",
   "name": "python",
   "nbconvert_exporter": "python",
   "pygments_lexer": "ipython2",
   "version": "2.7.9"
  }
 },
 "nbformat": 4,
 "nbformat_minor": 0
}
